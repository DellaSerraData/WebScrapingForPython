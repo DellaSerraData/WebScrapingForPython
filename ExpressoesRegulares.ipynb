{
 "cells": [
  {
   "cell_type": "markdown",
   "id": "1ca19999",
   "metadata": {},
   "source": [
    "# Expressoes Regulares\n",
    "\n",
    "Uma expressao regular e um metodo formal de se especificar um padrao de texto. \n",
    "\n",
    "Mais detalhadamente, e uma composicao de simbolos, caracteres com funcoes especiais, que, agrupados entre si e com caracteres liteais, formam uma sequencia, uma expressao. Essa expressao e interpretada como uma regra, que indicara sucesso se uma entrada de dados qualquer casar com essa regra, ou seja, obedecer exatamente a todas as suas condicoes. \n"
   ]
  },
  {
   "cell_type": "code",
   "execution_count": 1,
   "id": "dfa3140f",
   "metadata": {},
   "outputs": [],
   "source": [
    "# Importando o modulo re (regular expression)\n",
    "import re "
   ]
  },
  {
   "cell_type": "code",
   "execution_count": 2,
   "id": "d0f2cae0",
   "metadata": {},
   "outputs": [],
   "source": [
    "# Lista de termos para busca \n",
    "lista_pesquisa = ['informacoes', 'Negocios']"
   ]
  },
  {
   "cell_type": "code",
   "execution_count": 3,
   "id": "f31bce45",
   "metadata": {},
   "outputs": [],
   "source": [
    "# Texto para o parse\n",
    "texto = 'Existem muitos desafios para o Big Data. O primeiro deles é a coleta dos dados, pois fala-se aqui de '\\\n",
    "'enormes quantidades sendo geradas em uma taxa maior do que um servidor comum seria capaz de processar e armazenar. '\\\n",
    "'O segundo desafio é justamente o de processar essas informações. Com elas então distribuídas, a aplicação deve ser '\\\n",
    "'capaz de consumir partes das informações e gerar pequenas quantidades de dados processados, que serão calculados em '\\\n",
    "'conjunto depois para criar o resultado final. Outro desafio é a exibição dos resultados, de forma que as informações '\\\n",
    "'estejam disponíveis de forma clara para os tomadores de decisão.'"
   ]
  },
  {
   "cell_type": "code",
   "execution_count": 5,
   "id": "ecd1dedc",
   "metadata": {},
   "outputs": [
    {
     "name": "stdout",
     "output_type": "stream",
     "text": [
      "Buscando por \"informacoes\" em: \n",
      "\n",
      "\"Existem muitos desafios para o Big Data. O primeiro deles é a coleta dos dados, pois fala-se aqui de enormes quantidades sendo geradas em uma taxa maior do que um servidor comum seria capaz de processar e armazenar. O segundo desafio é justamente o de processar essas informações. Com elas então distribuídas, a aplicação deve ser capaz de consumir partes das informações e gerar pequenas quantidades de dados processados, que serão calculados em conjunto depois para criar o resultado final. Outro desafio é a exibição dos resultados, de forma que as informações estejam disponíveis de forma clara para os tomadores de decisão.\"\n",
      "\n",
      "\n",
      "Palavra não encontrada.\n",
      "\n",
      "\n",
      "Buscando por \"Negocios\" em: \n",
      "\n",
      "\"Existem muitos desafios para o Big Data. O primeiro deles é a coleta dos dados, pois fala-se aqui de enormes quantidades sendo geradas em uma taxa maior do que um servidor comum seria capaz de processar e armazenar. O segundo desafio é justamente o de processar essas informações. Com elas então distribuídas, a aplicação deve ser capaz de consumir partes das informações e gerar pequenas quantidades de dados processados, que serão calculados em conjunto depois para criar o resultado final. Outro desafio é a exibição dos resultados, de forma que as informações estejam disponíveis de forma clara para os tomadores de decisão.\"\n",
      "\n",
      "\n",
      "Palavra não encontrada.\n",
      "\n",
      "\n"
     ]
    }
   ],
   "source": [
    "# Exemplo básico de Data Mining\n",
    "for item in lista_pesquisa:\n",
    "    print ('Buscando por \"%s\" em: \\n\\n\"%s\"' % (item, texto))\n",
    "    \n",
    "    # Verificando se o termo de pesquisa existe no texto\n",
    "    if re.search(item,  texto):\n",
    "        print ('\\n')\n",
    "        print ('Palavra encontrada. \\n')\n",
    "        print ('\\n')\n",
    "    else:\n",
    "        print ('\\n')\n",
    "        print ('Palavra não encontrada.')\n",
    "        print ('\\n')"
   ]
  },
  {
   "cell_type": "code",
   "execution_count": 6,
   "id": "d759e199",
   "metadata": {},
   "outputs": [],
   "source": [
    "# Termo usado para dividir uma string \n",
    "split_term = '@'"
   ]
  },
  {
   "cell_type": "code",
   "execution_count": 7,
   "id": "00af3c44",
   "metadata": {},
   "outputs": [],
   "source": [
    "frase = 'Qual o dominio de alguem com o e-mail: aluno@gmail.com'"
   ]
  },
  {
   "cell_type": "code",
   "execution_count": 8,
   "id": "e1aa9b7f",
   "metadata": {},
   "outputs": [
    {
     "data": {
      "text/plain": [
       "['Qual o dominio de alguem com o e-mail: aluno', 'gmail.com']"
      ]
     },
     "execution_count": 8,
     "metadata": {},
     "output_type": "execute_result"
    }
   ],
   "source": [
    "# Dividingo a frase \n",
    "re.split(split_term, frase)"
   ]
  },
  {
   "cell_type": "code",
   "execution_count": 9,
   "id": "345313c5",
   "metadata": {},
   "outputs": [],
   "source": [
    "def encontra_padrao(lista, frase):\n",
    "    \n",
    "    for item in lista:\n",
    "        print ('Pesquisando na frase: %r' %item)\n",
    "        print (re.findall(item, frase))\n",
    "        print ('\\n')"
   ]
  },
  {
   "cell_type": "code",
   "execution_count": 10,
   "id": "303920db",
   "metadata": {},
   "outputs": [],
   "source": [
    "frase_padrao = 'zLzL..zzzLLL...zLLLzLLL...LzLz...dzzzzz...zLLLL'\n",
    "\n",
    "lista_padroes = [ 'zL*',       # z seguido de zero ou mais L\n",
    "                  'zL+',       # z seguido por um ou mais L\n",
    "                  'zL?',       # z seguido por zero ou um L\n",
    "                  'zL{3}',     # z seguido por três L\n",
    "                  'zL{2,3}',   # z seguido por dois a três L\n",
    "                ]\n"
   ]
  },
  {
   "cell_type": "code",
   "execution_count": 11,
   "id": "6478709b",
   "metadata": {},
   "outputs": [
    {
     "name": "stdout",
     "output_type": "stream",
     "text": [
      "Pesquisando na frase: 'zL*'\n",
      "['zL', 'zL', 'z', 'z', 'zLLL', 'zLLL', 'zLLL', 'zL', 'z', 'z', 'z', 'z', 'z', 'z', 'zLLLL']\n",
      "\n",
      "\n",
      "Pesquisando na frase: 'zL+'\n",
      "['zL', 'zL', 'zLLL', 'zLLL', 'zLLL', 'zL', 'zLLLL']\n",
      "\n",
      "\n",
      "Pesquisando na frase: 'zL?'\n",
      "['zL', 'zL', 'z', 'z', 'zL', 'zL', 'zL', 'zL', 'z', 'z', 'z', 'z', 'z', 'z', 'zL']\n",
      "\n",
      "\n",
      "Pesquisando na frase: 'zL{3}'\n",
      "['zLLL', 'zLLL', 'zLLL', 'zLLL']\n",
      "\n",
      "\n",
      "Pesquisando na frase: 'zL{2,3}'\n",
      "['zLLL', 'zLLL', 'zLLL', 'zLLL']\n",
      "\n",
      "\n"
     ]
    }
   ],
   "source": [
    "encontra_padrao(lista_padroes, frase_padrao)"
   ]
  },
  {
   "cell_type": "code",
   "execution_count": 12,
   "id": "91f891f3",
   "metadata": {},
   "outputs": [],
   "source": [
    "frase = 'Esta é uma string com pontuação. Isso pode ser um problema quando fazemos mineração de dados em busca '\\\n",
    "        'de padrões! Não seria melhor retirar os sinais ao fim de cada frase?'"
   ]
  },
  {
   "cell_type": "code",
   "execution_count": 13,
   "id": "6d0e01f2",
   "metadata": {},
   "outputs": [
    {
     "data": {
      "text/plain": [
       "['Esta',\n",
       " 'é',\n",
       " 'uma',\n",
       " 'string',\n",
       " 'com',\n",
       " 'pontuação',\n",
       " 'Isso',\n",
       " 'pode',\n",
       " 'ser',\n",
       " 'um',\n",
       " 'problema',\n",
       " 'quando',\n",
       " 'fazemos',\n",
       " 'mineração',\n",
       " 'de',\n",
       " 'dados',\n",
       " 'em',\n",
       " 'busca',\n",
       " 'de',\n",
       " 'padrões',\n",
       " 'Não',\n",
       " 'seria',\n",
       " 'melhor',\n",
       " 'retirar',\n",
       " 'os',\n",
       " 'sinais',\n",
       " 'ao',\n",
       " 'fim',\n",
       " 'de',\n",
       " 'cada',\n",
       " 'frase']"
      ]
     },
     "execution_count": 13,
     "metadata": {},
     "output_type": "execute_result"
    }
   ],
   "source": [
    "re.findall('[^!.? ]+', frase)"
   ]
  },
  {
   "cell_type": "code",
   "execution_count": 14,
   "id": "899c9a3a",
   "metadata": {},
   "outputs": [],
   "source": [
    "frase = 'Esta é uma frase de exemplo. Vamos verificar quais padrões serão encontrados.'\n",
    "\n",
    "lista_padroes = [ '[a-z]+',      # sequência de letras minúsculas\n",
    "                  '[A-Z]+',      # sequência de letras maiúsculas\n",
    "                  '[a-zA-Z]+',   # sequência de letras minúsculas e maiúsculas\n",
    "                  '[A-Z][a-z]+'] # uma letra maiúscula, seguida de uma letra minúscula\n"
   ]
  },
  {
   "cell_type": "code",
   "execution_count": 15,
   "id": "dc16cc72",
   "metadata": {},
   "outputs": [
    {
     "name": "stdout",
     "output_type": "stream",
     "text": [
      "Pesquisando na frase: '[a-z]+'\n",
      "['sta', 'uma', 'frase', 'de', 'exemplo', 'amos', 'verificar', 'quais', 'padr', 'es', 'ser', 'o', 'encontrados']\n",
      "\n",
      "\n",
      "Pesquisando na frase: '[A-Z]+'\n",
      "['E', 'V']\n",
      "\n",
      "\n",
      "Pesquisando na frase: '[a-zA-Z]+'\n",
      "['Esta', 'uma', 'frase', 'de', 'exemplo', 'Vamos', 'verificar', 'quais', 'padr', 'es', 'ser', 'o', 'encontrados']\n",
      "\n",
      "\n",
      "Pesquisando na frase: '[A-Z][a-z]+'\n",
      "['Esta', 'Vamos']\n",
      "\n",
      "\n"
     ]
    }
   ],
   "source": [
    "encontra_padrao(lista_padroes, frase)"
   ]
  },
  {
   "cell_type": "markdown",
   "id": "d495dac1",
   "metadata": {},
   "source": [
    "É possível usar códigos específicos para enocntrar padrões nos dados, tais como dígitos, não dígitos, espaços, etc..\n",
    "\n",
    "<table border=\"1\" class=\"docutils\">\n",
    "<colgroup>\n",
    "<col width=\"14%\" />\n",
    "<col width=\"86%\" />\n",
    "</colgroup>\n",
    "<thead valign=\"bottom\">\n",
    "<tr class=\"row-odd\"><th class=\"head\">Código</th>\n",
    "<th class=\"head\">Significado</th>\n",
    "</tr>\n",
    "</thead>\n",
    "<tbody valign=\"top\">\n",
    "<tr class=\"row-even\"><td><tt class=\"docutils literal\"><span class=\"pre\">\\d</span></tt></td>\n",
    "<td>um dígito</td>\n",
    "</tr>\n",
    "<tr class=\"row-odd\"><td><tt class=\"docutils literal\"><span class=\"pre\">\\D</span></tt></td>\n",
    "<td>um não-dígito</td>\n",
    "</tr>\n",
    "<tr class=\"row-even\"><td><tt class=\"docutils literal\"><span class=\"pre\">\\s</span></tt></td>\n",
    "<td>espaço (tab, espaço, nova linha, etc.)</td>\n",
    "</tr>\n",
    "<tr class=\"row-odd\"><td><tt class=\"docutils literal\"><span class=\"pre\">\\S</span></tt></td>\n",
    "<td>não-espaço</td>\n",
    "</tr>\n",
    "<tr class=\"row-even\"><td><tt class=\"docutils literal\"><span class=\"pre\">\\w</span></tt></td>\n",
    "<td>alfanumérico</td>\n",
    "</tr>\n",
    "<tr class=\"row-odd\"><td><tt class=\"docutils literal\"><span class=\"pre\">\\W</span></tt></td>\n",
    "<td>não-alfanumérico</td>\n",
    "</tr>\n",
    "</tbody>\n",
    "</table>\n"
   ]
  },
  {
   "cell_type": "code",
   "execution_count": 16,
   "id": "fcb66be0",
   "metadata": {},
   "outputs": [
    {
     "data": {
      "text/plain": [
       "'\\\\b'"
      ]
     },
     "execution_count": 16,
     "metadata": {},
     "output_type": "execute_result"
    }
   ],
   "source": [
    "# O prefixo r antes da expressão regular evita o pré-processamento da ER \n",
    "# pela linguagem. Colocamos o modificador r (do inglês \"raw\", crú) \n",
    "# imediatamente antes das aspas\n",
    "r'\\b'"
   ]
  },
  {
   "cell_type": "code",
   "execution_count": 17,
   "id": "f8ed2718",
   "metadata": {},
   "outputs": [
    {
     "data": {
      "text/plain": [
       "'\\x08'"
      ]
     },
     "execution_count": 17,
     "metadata": {},
     "output_type": "execute_result"
    }
   ],
   "source": [
    "'\\b'"
   ]
  },
  {
   "cell_type": "code",
   "execution_count": 18,
   "id": "5cf6a197",
   "metadata": {},
   "outputs": [],
   "source": [
    "frase = 'Esta é uma string com alguns números, como 1287 e um símbolo #hashtag'\n",
    "\n",
    "lista_padroes = [ r'\\d+', # sequência de dígitos\n",
    "                  r'\\D+', # sequência de não-dígitos\n",
    "                  r'\\s+', # sequência de espaços\n",
    "                  r'\\S+', # sequência de não-espaços\n",
    "                  r'\\w+', # caracteres alfanuméricos\n",
    "                  r'\\W+', # não-alfanumérico\n",
    "                ]"
   ]
  },
  {
   "cell_type": "code",
   "execution_count": 19,
   "id": "9194937f",
   "metadata": {},
   "outputs": [
    {
     "name": "stdout",
     "output_type": "stream",
     "text": [
      "Pesquisando na frase: '\\\\d+'\n",
      "['1287']\n",
      "\n",
      "\n",
      "Pesquisando na frase: '\\\\D+'\n",
      "['Esta é uma string com alguns números, como ', ' e um símbolo #hashtag']\n",
      "\n",
      "\n",
      "Pesquisando na frase: '\\\\s+'\n",
      "[' ', ' ', ' ', ' ', ' ', ' ', ' ', ' ', ' ', ' ', ' ', ' ']\n",
      "\n",
      "\n",
      "Pesquisando na frase: '\\\\S+'\n",
      "['Esta', 'é', 'uma', 'string', 'com', 'alguns', 'números,', 'como', '1287', 'e', 'um', 'símbolo', '#hashtag']\n",
      "\n",
      "\n",
      "Pesquisando na frase: '\\\\w+'\n",
      "['Esta', 'é', 'uma', 'string', 'com', 'alguns', 'números', 'como', '1287', 'e', 'um', 'símbolo', 'hashtag']\n",
      "\n",
      "\n",
      "Pesquisando na frase: '\\\\W+'\n",
      "[' ', ' ', ' ', ' ', ' ', ' ', ', ', ' ', ' ', ' ', ' ', ' #']\n",
      "\n",
      "\n"
     ]
    }
   ],
   "source": [
    "encontra_padrao(lista_padroes, frase)"
   ]
  },
  {
   "cell_type": "code",
   "execution_count": null,
   "id": "8d21c4a3",
   "metadata": {},
   "outputs": [],
   "source": []
  }
 ],
 "metadata": {
  "kernelspec": {
   "display_name": "Python 3 (ipykernel)",
   "language": "python",
   "name": "python3"
  },
  "language_info": {
   "codemirror_mode": {
    "name": "ipython",
    "version": 3
   },
   "file_extension": ".py",
   "mimetype": "text/x-python",
   "name": "python",
   "nbconvert_exporter": "python",
   "pygments_lexer": "ipython3",
   "version": "3.9.13"
  }
 },
 "nbformat": 4,
 "nbformat_minor": 5
}
